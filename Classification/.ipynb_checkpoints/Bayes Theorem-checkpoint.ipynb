{
 "cells": [
  {
   "cell_type": "code",
   "execution_count": 1,
   "metadata": {},
   "outputs": [
    {
     "ename": "ModuleNotFoundError",
     "evalue": "No module named 'basemap'",
     "output_type": "error",
     "traceback": [
      "\u001b[1;31m---------------------------------------------------------------------------\u001b[0m",
      "\u001b[1;31mModuleNotFoundError\u001b[0m                       Traceback (most recent call last)",
      "\u001b[1;32m<ipython-input-1-d6203f492db2>\u001b[0m in \u001b[0;36m<module>\u001b[1;34m\u001b[0m\n\u001b[1;32m----> 1\u001b[1;33m \u001b[1;32mimport\u001b[0m \u001b[0mbasemap\u001b[0m \u001b[1;32mas\u001b[0m \u001b[0mbp\u001b[0m\u001b[1;33m\u001b[0m\u001b[1;33m\u001b[0m\u001b[0m\n\u001b[0m",
      "\u001b[1;31mModuleNotFoundError\u001b[0m: No module named 'basemap'"
     ]
    }
   ],
   "source": [
    "import basemap as bp"
   ]
  },
  {
   "cell_type": "markdown",
   "metadata": {},
   "source": [
    "p(A) = 0.2388\n"
   ]
  },
  {
   "cell_type": "code",
   "execution_count": 1,
   "metadata": {},
   "outputs": [
    {
     "ename": "SyntaxError",
     "evalue": "can't assign to function call (<ipython-input-1-4c89fddc9444>, line 1)",
     "output_type": "error",
     "traceback": [
      "\u001b[1;36m  File \u001b[1;32m\"<ipython-input-1-4c89fddc9444>\"\u001b[1;36m, line \u001b[1;32m1\u001b[0m\n\u001b[1;33m    P(AnB) = P(A) * P(B) #independent\u001b[0m\n\u001b[1;37m                                     ^\u001b[0m\n\u001b[1;31mSyntaxError\u001b[0m\u001b[1;31m:\u001b[0m can't assign to function call\n"
     ]
    }
   ],
   "source": [
    "P(AnB) = P(A) * P(B) #independent\n",
    "P(AnB) = P(A) * P(B|A) #dependent"
   ]
  },
  {
   "cell_type": "markdown",
   "metadata": {},
   "source": [
    "p(B|A) = 0.4802"
   ]
  },
  {
   "cell_type": "markdown",
   "metadata": {},
   "source": [
    "p(B|A$^C$) = 0.1284"
   ]
  },
  {
   "cell_type": "markdown",
   "metadata": {},
   "source": [
    "P(A$^C n $B) = ?"
   ]
  },
  {
   "cell_type": "markdown",
   "metadata": {},
   "source": [
    "p(AnB) = 0.2388 * 0.4802 #p(spam n secret)"
   ]
  },
  {
   "cell_type": "markdown",
   "metadata": {},
   "source": [
    "p(spam') = 1 - 0.2388"
   ]
  },
  {
   "cell_type": "code",
   "execution_count": 3,
   "metadata": {},
   "outputs": [
    {
     "data": {
      "text/plain": [
       "0.7612"
      ]
     },
     "execution_count": 3,
     "metadata": {},
     "output_type": "execute_result"
    }
   ],
   "source": [
    "1-0.2388"
   ]
  },
  {
   "cell_type": "code",
   "execution_count": 8,
   "metadata": {},
   "outputs": [
    {
     "data": {
      "text/plain": [
       "0.21240984000000002"
      ]
     },
     "execution_count": 8,
     "metadata": {},
     "output_type": "execute_result"
    }
   ],
   "source": [
    "(0.2388*0.4802) + (0.7612*0.1284) #p(B)"
   ]
  },
  {
   "cell_type": "markdown",
   "metadata": {},
   "source": [
    "#### Bayes Theorem"
   ]
  },
  {
   "cell_type": "markdown",
   "metadata": {},
   "source": [
    "P(A|B) = P(AnB)/P(B)\n",
    "\n",
    "P(A|B) = [P(A) * P(B|A)] / P(B)\n",
    "\n",
    "P(A|B) = [P(A) * P(B|A)] / [P(A$^C$ n B) + P(A n B)]"
   ]
  },
  {
   "cell_type": "code",
   "execution_count": 11,
   "metadata": {},
   "outputs": [
    {
     "data": {
      "text/plain": [
       "0.11467176000000001"
      ]
     },
     "execution_count": 11,
     "metadata": {},
     "output_type": "execute_result"
    }
   ],
   "source": [
    "0.2388*0.4802 "
   ]
  },
  {
   "cell_type": "code",
   "execution_count": 12,
   "metadata": {},
   "outputs": [
    {
     "data": {
      "text/plain": [
       "0.539860865202855"
      ]
     },
     "execution_count": 12,
     "metadata": {},
     "output_type": "execute_result"
    }
   ],
   "source": [
    "0.11467176000000001/0.21240984000000002 #p(spam|secret)"
   ]
  },
  {
   "cell_type": "markdown",
   "metadata": {},
   "source": [
    "1. Spam  -  Secret money secret secret\n",
    "2. Spam -  Money secret place\n",
    "2. Non Spam - You know the secret\n",
    "3. secret - ??? "
   ]
  },
  {
   "cell_type": "code",
   "execution_count": 13,
   "metadata": {},
   "outputs": [],
   "source": [
    "p_spam = 2/3\n",
    "p_notspam = 1/3"
   ]
  },
  {
   "cell_type": "code",
   "execution_count": 14,
   "metadata": {},
   "outputs": [],
   "source": [
    "p_secretgivenspam = 4/7\n",
    "p_secretgivennotspam = 1/4"
   ]
  },
  {
   "cell_type": "code",
   "execution_count": 15,
   "metadata": {},
   "outputs": [],
   "source": [
    "p_secret = (2/3 * 4/7) + (1/3 * 1/4)"
   ]
  },
  {
   "cell_type": "code",
   "execution_count": 16,
   "metadata": {},
   "outputs": [
    {
     "data": {
      "text/plain": [
       "0.46428571428571425"
      ]
     },
     "execution_count": 16,
     "metadata": {},
     "output_type": "execute_result"
    }
   ],
   "source": [
    "p_secret"
   ]
  },
  {
   "cell_type": "code",
   "execution_count": 18,
   "metadata": {},
   "outputs": [
    {
     "data": {
      "text/plain": [
       "0.8205128205128205"
      ]
     },
     "execution_count": 18,
     "metadata": {},
     "output_type": "execute_result"
    }
   ],
   "source": [
    "p_spamgivensecret = ((2/3)*(4/7))/p_secret\n",
    "p_spamgivensecret"
   ]
  },
  {
   "cell_type": "code",
   "execution_count": 23,
   "metadata": {},
   "outputs": [],
   "source": [
    "p_notspamgivensecret = 1-0.8205128205128205"
   ]
  },
  {
   "cell_type": "markdown",
   "metadata": {},
   "source": [
    "### Naive Bayes Theorem "
   ]
  },
  {
   "cell_type": "markdown",
   "metadata": {},
   "source": [
    "P(A|B) = p(A) x p(B|A)"
   ]
  },
  {
   "cell_type": "markdown",
   "metadata": {},
   "source": [
    "Example\n",
    "\n",
    "1. Non spam - secret meeting at my place\n",
    "2. Spam - Secret money secret secret\n",
    "3. Spam - Money secret place\n",
    "4. Non Spam - You know the secret\n",
    "5. secret place secret secret - ???"
   ]
  },
  {
   "cell_type": "markdown",
   "metadata": {},
   "source": [
    "Q) classify if the 5th message is spam or not spam\n",
    "p(spam|secret place secret secret) - ?"
   ]
  },
  {
   "cell_type": "markdown",
   "metadata": {},
   "source": [
    "hint - p(spam|secret place secret secret) = p(spam) x p(secret|spam) x p(place|spam) x p(secret|spam) x p(secret|spam) "
   ]
  },
  {
   "cell_type": "markdown",
   "metadata": {},
   "source": [
    "### p(spam|secret place secret secret)"
   ]
  },
  {
   "cell_type": "code",
   "execution_count": 2,
   "metadata": {},
   "outputs": [],
   "source": [
    "p_spam = 2/4\n",
    "p_secretgivenspam = 4/7\n",
    "p_placegivenspam = 1/7\n"
   ]
  },
  {
   "cell_type": "code",
   "execution_count": 3,
   "metadata": {},
   "outputs": [
    {
     "data": {
      "text/plain": [
       "0.013327780091628485"
      ]
     },
     "execution_count": 3,
     "metadata": {},
     "output_type": "execute_result"
    }
   ],
   "source": [
    "p_spamgivenSPSS = p_spam * p_secretgivenspam * p_placegivenspam * p_secretgivenspam * p_secretgivenspam\n",
    "p_spamgivenSPSS"
   ]
  },
  {
   "cell_type": "markdown",
   "metadata": {},
   "source": [
    "### p(not spam|secret place secret secret)"
   ]
  },
  {
   "cell_type": "code",
   "execution_count": 5,
   "metadata": {
    "scrolled": true
   },
   "outputs": [
    {
     "data": {
      "text/plain": [
       "0.0006096631611034902"
      ]
     },
     "execution_count": 5,
     "metadata": {},
     "output_type": "execute_result"
    }
   ],
   "source": [
    "p_notspam = 2/4\n",
    "p_secretgivennotspam = 2/9\n",
    "p_placegivennotspam = 1/9\n",
    "p_spamgivennotSPSS = p_notspam * p_secretgivennotspam * p_placegivennotspam * p_secretgivennotspam *p_secretgivennotspam\n",
    "p_spamgivennotSPSS"
   ]
  },
  {
   "cell_type": "markdown",
   "metadata": {},
   "source": [
    "### Conclusion:\n",
    "\n",
    "secret place secret secret = \"SPAM\""
   ]
  },
  {
   "cell_type": "markdown",
   "metadata": {},
   "source": [
    "## Additive smoothing "
   ]
  },
  {
   "cell_type": "markdown",
   "metadata": {},
   "source": [
    "Laplace smoothing (add one)\n",
    "\n",
    "Lindstone smoothing(less than one)"
   ]
  },
  {
   "cell_type": "markdown",
   "metadata": {},
   "source": [
    "p(the|spam) = 0/7 "
   ]
  },
  {
   "cell_type": "markdown",
   "metadata": {},
   "source": [
    "p(money|spam$^C$) = 0/9"
   ]
  },
  {
   "cell_type": "code",
   "execution_count": 26,
   "metadata": {},
   "outputs": [
    {
     "data": {
      "text/plain": [
       "0.0625"
      ]
     },
     "execution_count": 26,
     "metadata": {},
     "output_type": "execute_result"
    }
   ],
   "source": [
    "(0+1)/(7+1*9) # p(the|spam)"
   ]
  },
  {
   "cell_type": "code",
   "execution_count": 28,
   "metadata": {},
   "outputs": [
    {
     "data": {
      "text/plain": [
       "0.05555555555555555"
      ]
     },
     "execution_count": 28,
     "metadata": {},
     "output_type": "execute_result"
    }
   ],
   "source": [
    "(0+1)/(9+1*9) # p(money|spam')"
   ]
  },
  {
   "cell_type": "markdown",
   "metadata": {},
   "source": [
    "1. Non spam - secret meeting at my place\n",
    "2. Spam - Secret money secret secret\n",
    "3. Spam - Money secret place\n",
    "4. Non Spam - You know the secret\n",
    "5. ________  -  Secret code to unlock the money "
   ]
  },
  {
   "cell_type": "markdown",
   "metadata": {},
   "source": [
    "p(spam|secret code to unlock the money) - ??"
   ]
  },
  {
   "cell_type": "markdown",
   "metadata": {},
   "source": [
    " p(spam|secret code to unlock the money ) = p(spam) x p(secret|spam) x  p(code|spam) x  p(to|spam) x  p(unlock|spam) x  p(the|spam) x  p(money|spam) "
   ]
  },
  {
   "cell_type": "markdown",
   "metadata": {},
   "source": [
    "p(spam$^C$|secret code to unlock the money ) = p(spam$^C$) x p(secret|spam$^C$) x p(the|spam$^C$) x  p(money|spam$^C$) "
   ]
  },
  {
   "cell_type": "markdown",
   "metadata": {},
   "source": [
    "Vocabulary: \n",
    "    1.secret\n",
    "    \n",
    "    2.meeting\n",
    "    \n",
    "    3.at\n",
    "    \n",
    "    4.my\n",
    "    \n",
    "    5.place\n",
    "    \n",
    "    6.money\n",
    "    \n",
    "    7.you\n",
    "    \n",
    "    8.the\n",
    "    \n",
    "    9.know"
   ]
  },
  {
   "cell_type": "markdown",
   "metadata": {},
   "source": [
    "#### p(spam|secret code to unlock the money)"
   ]
  },
  {
   "cell_type": "code",
   "execution_count": 15,
   "metadata": {},
   "outputs": [],
   "source": [
    "p_spam = 2/4\n",
    "p_secretgivenspam = 4/7\n",
    "p_thegivenspam = 0/7\n",
    "p_moneygivenspam = 2/7"
   ]
  },
  {
   "cell_type": "code",
   "execution_count": 20,
   "metadata": {},
   "outputs": [],
   "source": [
    "#Performing additive smoothing:\n",
    "sm_p_thegivenspam = (0+1)/(7+1*9)\n",
    "sm_p_secretgivenspam = (4+1)/(7+1*9)\n",
    "sm_p_moneygivenspam = (2+1)/(7+1*9)"
   ]
  },
  {
   "cell_type": "code",
   "execution_count": 22,
   "metadata": {},
   "outputs": [
    {
     "data": {
      "text/plain": [
       "0.0018310546875"
      ]
     },
     "execution_count": 22,
     "metadata": {},
     "output_type": "execute_result"
    }
   ],
   "source": [
    "p_spamgivenmsg = p_spam * sm_p_secretgivenspam  * sm_p_thegivenspam * sm_p_moneygivenspam\n",
    "p_spamgivenmsg"
   ]
  },
  {
   "cell_type": "markdown",
   "metadata": {},
   "source": [
    "#### p(not spam|secret code to unlock the money)"
   ]
  },
  {
   "cell_type": "code",
   "execution_count": 16,
   "metadata": {},
   "outputs": [],
   "source": [
    "p_notspam = 2/4\n",
    "p_secretgivennotspam = 2/9\n",
    "p_thegivennotspam = 1/9\n",
    "p_moneygivennotspam = 0/9"
   ]
  },
  {
   "cell_type": "code",
   "execution_count": 17,
   "metadata": {},
   "outputs": [],
   "source": [
    "#Performing additive smoothing:\n",
    "sm_p_moneygivennotspam = (0+1)/(9+1*9)\n",
    "sm_p_secretgivennotspam = (2+1)/(9+1*9)\n",
    "sm_p_thegivennotspam = (1+1)/(9+1*9)"
   ]
  },
  {
   "cell_type": "code",
   "execution_count": 18,
   "metadata": {},
   "outputs": [
    {
     "data": {
      "text/plain": [
       "0.0015432098765432098"
      ]
     },
     "execution_count": 18,
     "metadata": {},
     "output_type": "execute_result"
    }
   ],
   "source": [
    "p_notspamgivenmsg = p_notspam * sm_p_secretgivennotspam * sm_p_thegivennotspam * sm_p_secretgivennotspam \n",
    "p_notspamgivenmsg"
   ]
  },
  {
   "cell_type": "markdown",
   "metadata": {},
   "source": [
    "### Conclusion:\n",
    "\n",
    "secret code to unlock the money = \"SPAM\""
   ]
  },
  {
   "cell_type": "code",
   "execution_count": null,
   "metadata": {},
   "outputs": [],
   "source": []
  }
 ],
 "metadata": {
  "kernelspec": {
   "display_name": "Python 3",
   "language": "python",
   "name": "python3"
  },
  "language_info": {
   "codemirror_mode": {
    "name": "ipython",
    "version": 3
   },
   "file_extension": ".py",
   "mimetype": "text/x-python",
   "name": "python",
   "nbconvert_exporter": "python",
   "pygments_lexer": "ipython3",
   "version": "3.7.3"
  }
 },
 "nbformat": 4,
 "nbformat_minor": 2
}
