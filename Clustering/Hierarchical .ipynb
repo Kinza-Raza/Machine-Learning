{
 "cells": [
  {
   "cell_type": "markdown",
   "metadata": {},
   "source": [
    " -   retains memory of forming clusters in sequence which is saved in \"Dendogram\""
   ]
  },
  {
   "cell_type": "markdown",
   "metadata": {},
   "source": [
    "### Consists of 2 types\n",
    "\n",
    "#### 1) Agglomerative\n",
    "\n",
    "1) Consider each data point as one cluster. [N clusters]\n",
    "\n",
    "2) Group two closest clusters so that there is one less cluster [N-1 clusters]\n",
    "\n",
    "3) Keep on grouping the closest clusters in iteration until you are left with one cluster\n",
    "\n",
    "#### 2) Divisive (not much used in real world)\n",
    "\n",
    "opposite of Agglomerative. We consider all data points to be part of one huge cluster. We then separate a data point in each iteration which are not similar until we are left with N clusters \n"
   ]
  },
  {
   "cell_type": "markdown",
   "metadata": {},
   "source": [
    "### Measuring distance between two clusters/Calculating similarity: (depends on the business problem)\n",
    "![title](Capture3.png)"
   ]
  },
  {
   "cell_type": "markdown",
   "metadata": {},
   "source": [
    "#### Option 1:  Min AKA single linkage algorithm by taking closest points which give minimum similarity\n",
    "\n",
    "Adv: can separate non-elliptical shapes\n",
    "\n",
    "Disadv: cannot separate clusters properly if there is noise\n",
    "\n",
    "#### Option 2: Max AKA complete linkage algorithm by taking furthest points. \n",
    "\n",
    "Adv: works well with noise\n",
    "\n",
    "Disadv: favours globular clusters, tends to break large clusters\n",
    "\n",
    "#### Option 3: Group Average: Take all the pairs of points and compute their similarities and calculate the average of the similarities.\n",
    "\n",
    "(same adv and disadv as Max)\n",
    "\n",
    "#### Option 4: Compute centroids and take similarity between centroids as similiarity of clusters. \n",
    "\n",
    "less popular technique in real world.\n",
    "\n",
    "#### Option 5: Ward's method: same as Group Average just taking sum of squares of similiarities\n",
    "\n",
    "(same adv and disadv as Max)"
   ]
  },
  {
   "cell_type": "markdown",
   "metadata": {},
   "source": [
    "### Example of dendogram \n",
    "![title](Dendo.png)"
   ]
  },
  {
   "cell_type": "markdown",
   "metadata": {},
   "source": [
    "### By setting distance thresholds on dendograms (horizontal line at a particular Euclidean distance) we can find out number of clusters and decide overall how many clusters are suitable. \n",
    "\n",
    "### Deciding optimal number of clusters by using dendograms:\n",
    "\n",
    "- extend each horizontal line and cancel out all the vertical lines of clusters which cut through the horizontal lines. The remaining number of vertical lines which do not intersect tell the number of optimal clusters.\n",
    "\n",
    "![title](dendo2.png)"
   ]
  },
  {
   "cell_type": "markdown",
   "metadata": {},
   "source": [
    "## Limitations of Hierarchal technique:\n",
    "\n",
    "1) all approaches to calculate similarity have disadvantages. \n",
    "\n",
    "2) high space and time complexity required.(space complexity as similarity matrix must be stored in RAM. time complexity as similarities calculated in each iteration). So can not work well for huge data"
   ]
  },
  {
   "cell_type": "code",
   "execution_count": 1,
   "metadata": {},
   "outputs": [],
   "source": [
    "import pandas as pd\n",
    "import numpy as np \n",
    "import matplotlib.pyplot as plt "
   ]
  },
  {
   "cell_type": "code",
   "execution_count": 2,
   "metadata": {},
   "outputs": [
    {
     "data": {
      "text/html": [
       "<div>\n",
       "<style scoped>\n",
       "    .dataframe tbody tr th:only-of-type {\n",
       "        vertical-align: middle;\n",
       "    }\n",
       "\n",
       "    .dataframe tbody tr th {\n",
       "        vertical-align: top;\n",
       "    }\n",
       "\n",
       "    .dataframe thead th {\n",
       "        text-align: right;\n",
       "    }\n",
       "</style>\n",
       "<table border=\"1\" class=\"dataframe\">\n",
       "  <thead>\n",
       "    <tr style=\"text-align: right;\">\n",
       "      <th></th>\n",
       "      <th>CustomerID</th>\n",
       "      <th>Genre</th>\n",
       "      <th>Age</th>\n",
       "      <th>Annual Income (k$)</th>\n",
       "      <th>Spending Score (1-100)</th>\n",
       "    </tr>\n",
       "  </thead>\n",
       "  <tbody>\n",
       "    <tr>\n",
       "      <th>0</th>\n",
       "      <td>1</td>\n",
       "      <td>Male</td>\n",
       "      <td>19</td>\n",
       "      <td>15</td>\n",
       "      <td>39</td>\n",
       "    </tr>\n",
       "    <tr>\n",
       "      <th>1</th>\n",
       "      <td>2</td>\n",
       "      <td>Male</td>\n",
       "      <td>21</td>\n",
       "      <td>15</td>\n",
       "      <td>81</td>\n",
       "    </tr>\n",
       "    <tr>\n",
       "      <th>2</th>\n",
       "      <td>3</td>\n",
       "      <td>Female</td>\n",
       "      <td>20</td>\n",
       "      <td>16</td>\n",
       "      <td>6</td>\n",
       "    </tr>\n",
       "    <tr>\n",
       "      <th>3</th>\n",
       "      <td>4</td>\n",
       "      <td>Female</td>\n",
       "      <td>23</td>\n",
       "      <td>16</td>\n",
       "      <td>77</td>\n",
       "    </tr>\n",
       "    <tr>\n",
       "      <th>4</th>\n",
       "      <td>5</td>\n",
       "      <td>Female</td>\n",
       "      <td>31</td>\n",
       "      <td>17</td>\n",
       "      <td>40</td>\n",
       "    </tr>\n",
       "  </tbody>\n",
       "</table>\n",
       "</div>"
      ],
      "text/plain": [
       "   CustomerID   Genre  Age  Annual Income (k$)  Spending Score (1-100)\n",
       "0           1    Male   19                  15                      39\n",
       "1           2    Male   21                  15                      81\n",
       "2           3  Female   20                  16                       6\n",
       "3           4  Female   23                  16                      77\n",
       "4           5  Female   31                  17                      40"
      ]
     },
     "execution_count": 2,
     "metadata": {},
     "output_type": "execute_result"
    }
   ],
   "source": [
    "file = pd.read_csv(\"Mall_Customers.csv\")\n",
    "file.head()"
   ]
  },
  {
   "cell_type": "code",
   "execution_count": 4,
   "metadata": {},
   "outputs": [],
   "source": [
    "x = file.iloc[:,[3,4]].values"
   ]
  },
  {
   "cell_type": "code",
   "execution_count": 8,
   "metadata": {},
   "outputs": [
    {
     "data": {
      "image/png": "[encoded data removed]",
      "text/plain": [
       "<Figure size 432x288 with 1 Axes>"
      ]
     },
     "metadata": {
      "needs_background": "light"
     },
     "output_type": "display_data"
    }
   ],
   "source": [
    "#Using dendrogram to find optimal clusters\n",
    "\n",
    "import scipy.cluster.hierarchy as sch\n",
    "\n",
    "dendo = sch.dendrogram(sch.linkage(x,'ward')) #using ward method \n",
    "plt.xlabel(\"Customers\")\n",
    "plt.ylabel(\"Euclidean distance\")\n",
    "plt.axhline(200)\n",
    "plt.show()\n",
    "\n",
    "#Optimal number of clusters is 5"
   ]
  },
  {
   "cell_type": "code",
   "execution_count": 14,
   "metadata": {},
   "outputs": [],
   "source": [
    "from sklearn.cluster import AgglomerativeClustering\n",
    "\n",
    "hc = AgglomerativeClustering(n_clusters=5)\n",
    "y_hc = hc.fit_predict(x)\n"
   ]
  },
  {
   "cell_type": "code",
   "execution_count": 16,
   "metadata": {},
   "outputs": [
    {
     "data": {
      "image/png": "[encoded data removed]",
      "text/plain": [
       "<Figure size 432x288 with 1 Axes>"
      ]
     },
     "metadata": {
      "needs_background": "light"
     },
     "output_type": "display_data"
    }
   ],
   "source": [
    "plt.scatter(x[y_hc==0, 0], x[y_hc==0, 1], s=80, c='red', label=\"Cluster 1\")\n",
    "plt.scatter(x[y_hc==1, 0], x[y_hc==1, 1], s=100, c='blue', label=\"Cluster 2\")\n",
    "plt.scatter(x[y_hc==2, 0], x[y_hc==2, 1], s=100, c='green', label=\"Cluster 3\")\n",
    "plt.scatter(x[y_hc==3, 0], x[y_hc==3, 1], s=100, c='black', label=\"Cluster 4\")\n",
    "plt.scatter(x[y_hc==4, 0], x[y_hc==4, 1], s=100, c='orange', label=\"Cluster 5\")\n",
    "plt.xlabel(\"Annual Income (K$)\")\n",
    "plt.ylabel(\"Spending Score (1-100)\")\n",
    "plt.legend(loc=1)\n",
    "plt.show()"
   ]
  },
  {
   "cell_type": "code",
   "execution_count": null,
   "metadata": {},
   "outputs": [],
   "source": []
  }
 ],
 "metadata": {
  "kernelspec": {
   "display_name": "Python 3",
   "language": "python",
   "name": "python3"
  },
  "language_info": {
   "codemirror_mode": {
    "name": "ipython",
    "version": 3
   },
   "file_extension": ".py",
   "mimetype": "text/x-python",
   "name": "python",
   "nbconvert_exporter": "python",
   "pygments_lexer": "ipython3",
   "version": "3.7.3"
  }
 },
 "nbformat": 4,
 "nbformat_minor": 2
}
